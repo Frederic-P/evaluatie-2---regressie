{
 "cells": [
  {
   "cell_type": "code",
   "execution_count": 19,
   "metadata": {},
   "outputs": [],
   "source": [
    "import pandas as pd\n",
    "import sys\n",
    "sys.path.append('utilities')\n",
    "import helpers as h\n",
    "import matplotlib.pyplot as plt"
   ]
  },
  {
   "cell_type": "markdown",
   "metadata": {},
   "source": [
    "# 1: Reading files from disk into memory\n",
    "start by reading the file locations from file, then load the excel file, list the sheets and load them all into variables. Next load the y_test.csv file."
   ]
  },
  {
   "cell_type": "code",
   "execution_count": 2,
   "metadata": {},
   "outputs": [
    {
     "data": {
      "text/html": [
       "<div>\n",
       "<style scoped>\n",
       "    .dataframe tbody tr th:only-of-type {\n",
       "        vertical-align: middle;\n",
       "    }\n",
       "\n",
       "    .dataframe tbody tr th {\n",
       "        vertical-align: top;\n",
       "    }\n",
       "\n",
       "    .dataframe thead th {\n",
       "        text-align: right;\n",
       "    }\n",
       "</style>\n",
       "<table border=\"1\" class=\"dataframe\">\n",
       "  <thead>\n",
       "    <tr style=\"text-align: right;\">\n",
       "      <th></th>\n",
       "      <th>Key</th>\n",
       "      <th>File Path</th>\n",
       "      <th>Explanation</th>\n",
       "    </tr>\n",
       "  </thead>\n",
       "  <tbody>\n",
       "    <tr>\n",
       "      <th>0</th>\n",
       "      <td>raw_data</td>\n",
       "      <td>c:\\Practical Business Python\\Year 2\\projecten\\...</td>\n",
       "      <td>Training dataset in Excel format as downloaded...</td>\n",
       "    </tr>\n",
       "    <tr>\n",
       "      <th>1</th>\n",
       "      <td>y_testdata</td>\n",
       "      <td>c:\\Practical Business Python\\Year 2\\projecten\\...</td>\n",
       "      <td>Training testdata as downloaded from mail in C...</td>\n",
       "    </tr>\n",
       "  </tbody>\n",
       "</table>\n",
       "</div>"
      ],
      "text/plain": [
       "          Key                                          File Path                                        Explanation\n",
       "0    raw_data  c:\\Practical Business Python\\Year 2\\projecten\\...  Training dataset in Excel format as downloaded...\n",
       "1  y_testdata  c:\\Practical Business Python\\Year 2\\projecten\\...  Training testdata as downloaded from mail in C..."
      ]
     },
     "metadata": {},
     "output_type": "display_data"
    }
   ],
   "source": [
    "files = h.get_file_organization(True)"
   ]
  },
  {
   "cell_type": "code",
   "execution_count": 3,
   "metadata": {},
   "outputs": [],
   "source": [
    "excel_file = pd.ExcelFile(files['raw_data'])\n",
    "X_train, X_test, y_train = [pd.read_excel(files['raw_data'], sheet_name= sheet) for sheet in excel_file.sheet_names]\n",
    "# X_train, X_text, y_train =\n",
    "y_test = pd.read_csv(files['y_testdata'])\n",
    "excel_file.close()\n",
    "assert(len(X_train) == len(y_train))"
   ]
  },
  {
   "cell_type": "markdown",
   "metadata": {},
   "source": [
    "# 2: EDA - what data do we have?"
   ]
  },
  {
   "cell_type": "code",
   "execution_count": 4,
   "metadata": {},
   "outputs": [
    {
     "data": {
      "text/html": [
       "<div>\n",
       "<style scoped>\n",
       "    .dataframe tbody tr th:only-of-type {\n",
       "        vertical-align: middle;\n",
       "    }\n",
       "\n",
       "    .dataframe tbody tr th {\n",
       "        vertical-align: top;\n",
       "    }\n",
       "\n",
       "    .dataframe thead th {\n",
       "        text-align: right;\n",
       "    }\n",
       "</style>\n",
       "<table border=\"1\" class=\"dataframe\">\n",
       "  <thead>\n",
       "    <tr style=\"text-align: right;\">\n",
       "      <th></th>\n",
       "      <th>work_year</th>\n",
       "      <th>experience_level</th>\n",
       "      <th>employment_type</th>\n",
       "      <th>job_title</th>\n",
       "      <th>employee_residence</th>\n",
       "      <th>work_setting</th>\n",
       "      <th>company_location</th>\n",
       "      <th>company_size</th>\n",
       "    </tr>\n",
       "  </thead>\n",
       "  <tbody>\n",
       "    <tr>\n",
       "      <th>0</th>\n",
       "      <td>2023</td>\n",
       "      <td>Mid-level</td>\n",
       "      <td>Full-time</td>\n",
       "      <td>Machine Learning Engineer</td>\n",
       "      <td>United States</td>\n",
       "      <td>In-person</td>\n",
       "      <td>United States</td>\n",
       "      <td>M</td>\n",
       "    </tr>\n",
       "    <tr>\n",
       "      <th>1</th>\n",
       "      <td>2023</td>\n",
       "      <td>Mid-level</td>\n",
       "      <td>Full-time</td>\n",
       "      <td>Data Scientist</td>\n",
       "      <td>United States</td>\n",
       "      <td>In-person</td>\n",
       "      <td>United States</td>\n",
       "      <td>M</td>\n",
       "    </tr>\n",
       "    <tr>\n",
       "      <th>2</th>\n",
       "      <td>2024</td>\n",
       "      <td>Senior</td>\n",
       "      <td>Full-time</td>\n",
       "      <td>Data Scientist</td>\n",
       "      <td>United Kingdom</td>\n",
       "      <td>In-person</td>\n",
       "      <td>United Kingdom</td>\n",
       "      <td>M</td>\n",
       "    </tr>\n",
       "    <tr>\n",
       "      <th>3</th>\n",
       "      <td>2024</td>\n",
       "      <td>Senior</td>\n",
       "      <td>Full-time</td>\n",
       "      <td>Data Scientist</td>\n",
       "      <td>United States</td>\n",
       "      <td>Remote</td>\n",
       "      <td>United States</td>\n",
       "      <td>M</td>\n",
       "    </tr>\n",
       "    <tr>\n",
       "      <th>4</th>\n",
       "      <td>2024</td>\n",
       "      <td>Senior</td>\n",
       "      <td>Full-time</td>\n",
       "      <td>Data Scientist</td>\n",
       "      <td>United Kingdom</td>\n",
       "      <td>Remote</td>\n",
       "      <td>United Kingdom</td>\n",
       "      <td>M</td>\n",
       "    </tr>\n",
       "  </tbody>\n",
       "</table>\n",
       "</div>"
      ],
      "text/plain": [
       "   work_year experience_level employment_type                  job_title employee_residence work_setting company_location company_size\n",
       "0       2023        Mid-level       Full-time  Machine Learning Engineer      United States    In-person    United States            M\n",
       "1       2023        Mid-level       Full-time             Data Scientist      United States    In-person    United States            M\n",
       "2       2024           Senior       Full-time             Data Scientist     United Kingdom    In-person   United Kingdom            M\n",
       "3       2024           Senior       Full-time             Data Scientist      United States       Remote    United States            M\n",
       "4       2024           Senior       Full-time             Data Scientist     United Kingdom       Remote   United Kingdom            M"
      ]
     },
     "execution_count": 4,
     "metadata": {},
     "output_type": "execute_result"
    }
   ],
   "source": [
    "X_train.head(5)"
   ]
  },
  {
   "cell_type": "code",
   "execution_count": 5,
   "metadata": {},
   "outputs": [
    {
     "data": {
      "text/html": [
       "<div>\n",
       "<style scoped>\n",
       "    .dataframe tbody tr th:only-of-type {\n",
       "        vertical-align: middle;\n",
       "    }\n",
       "\n",
       "    .dataframe tbody tr th {\n",
       "        vertical-align: top;\n",
       "    }\n",
       "\n",
       "    .dataframe thead th {\n",
       "        text-align: right;\n",
       "    }\n",
       "</style>\n",
       "<table border=\"1\" class=\"dataframe\">\n",
       "  <thead>\n",
       "    <tr style=\"text-align: right;\">\n",
       "      <th></th>\n",
       "      <th>salary_in_eur</th>\n",
       "    </tr>\n",
       "  </thead>\n",
       "  <tbody>\n",
       "    <tr>\n",
       "      <th>0</th>\n",
       "      <td>188140.00</td>\n",
       "    </tr>\n",
       "    <tr>\n",
       "      <th>1</th>\n",
       "      <td>155480.00</td>\n",
       "    </tr>\n",
       "    <tr>\n",
       "      <th>2</th>\n",
       "      <td>36800.00</td>\n",
       "    </tr>\n",
       "    <tr>\n",
       "      <th>3</th>\n",
       "      <td>88113.92</td>\n",
       "    </tr>\n",
       "    <tr>\n",
       "      <th>4</th>\n",
       "      <td>59800.00</td>\n",
       "    </tr>\n",
       "  </tbody>\n",
       "</table>\n",
       "</div>"
      ],
      "text/plain": [
       "   salary_in_eur\n",
       "0      188140.00\n",
       "1      155480.00\n",
       "2       36800.00\n",
       "3       88113.92\n",
       "4       59800.00"
      ]
     },
     "execution_count": 5,
     "metadata": {},
     "output_type": "execute_result"
    }
   ],
   "source": [
    "y_train.head(5)"
   ]
  },
  {
   "cell_type": "markdown",
   "metadata": {},
   "source": [
    "## 2.1 single df: \n",
    "We want to have a single df with y_train as the target column for easier plotting in our EDA phase. "
   ]
  },
  {
   "cell_type": "code",
   "execution_count": 6,
   "metadata": {},
   "outputs": [],
   "source": [
    "df = X_train.copy()\n",
    "df['target'] = y_train"
   ]
  },
  {
   "cell_type": "code",
   "execution_count": 7,
   "metadata": {},
   "outputs": [
    {
     "data": {
      "text/html": [
       "<div>\n",
       "<style scoped>\n",
       "    .dataframe tbody tr th:only-of-type {\n",
       "        vertical-align: middle;\n",
       "    }\n",
       "\n",
       "    .dataframe tbody tr th {\n",
       "        vertical-align: top;\n",
       "    }\n",
       "\n",
       "    .dataframe thead th {\n",
       "        text-align: right;\n",
       "    }\n",
       "</style>\n",
       "<table border=\"1\" class=\"dataframe\">\n",
       "  <thead>\n",
       "    <tr style=\"text-align: right;\">\n",
       "      <th></th>\n",
       "      <th>work_year</th>\n",
       "      <th>experience_level</th>\n",
       "      <th>employment_type</th>\n",
       "      <th>job_title</th>\n",
       "      <th>employee_residence</th>\n",
       "      <th>work_setting</th>\n",
       "      <th>company_location</th>\n",
       "      <th>company_size</th>\n",
       "      <th>target</th>\n",
       "    </tr>\n",
       "  </thead>\n",
       "  <tbody>\n",
       "    <tr>\n",
       "      <th>0</th>\n",
       "      <td>2023</td>\n",
       "      <td>Mid-level</td>\n",
       "      <td>Full-time</td>\n",
       "      <td>Machine Learning Engineer</td>\n",
       "      <td>United States</td>\n",
       "      <td>In-person</td>\n",
       "      <td>United States</td>\n",
       "      <td>M</td>\n",
       "      <td>188140.00</td>\n",
       "    </tr>\n",
       "    <tr>\n",
       "      <th>1</th>\n",
       "      <td>2023</td>\n",
       "      <td>Mid-level</td>\n",
       "      <td>Full-time</td>\n",
       "      <td>Data Scientist</td>\n",
       "      <td>United States</td>\n",
       "      <td>In-person</td>\n",
       "      <td>United States</td>\n",
       "      <td>M</td>\n",
       "      <td>155480.00</td>\n",
       "    </tr>\n",
       "    <tr>\n",
       "      <th>2</th>\n",
       "      <td>2024</td>\n",
       "      <td>Senior</td>\n",
       "      <td>Full-time</td>\n",
       "      <td>Data Scientist</td>\n",
       "      <td>United Kingdom</td>\n",
       "      <td>In-person</td>\n",
       "      <td>United Kingdom</td>\n",
       "      <td>M</td>\n",
       "      <td>36800.00</td>\n",
       "    </tr>\n",
       "    <tr>\n",
       "      <th>3</th>\n",
       "      <td>2024</td>\n",
       "      <td>Senior</td>\n",
       "      <td>Full-time</td>\n",
       "      <td>Data Scientist</td>\n",
       "      <td>United States</td>\n",
       "      <td>Remote</td>\n",
       "      <td>United States</td>\n",
       "      <td>M</td>\n",
       "      <td>88113.92</td>\n",
       "    </tr>\n",
       "    <tr>\n",
       "      <th>4</th>\n",
       "      <td>2024</td>\n",
       "      <td>Senior</td>\n",
       "      <td>Full-time</td>\n",
       "      <td>Data Scientist</td>\n",
       "      <td>United Kingdom</td>\n",
       "      <td>Remote</td>\n",
       "      <td>United Kingdom</td>\n",
       "      <td>M</td>\n",
       "      <td>59800.00</td>\n",
       "    </tr>\n",
       "  </tbody>\n",
       "</table>\n",
       "</div>"
      ],
      "text/plain": [
       "   work_year experience_level employment_type                  job_title employee_residence work_setting company_location company_size     target\n",
       "0       2023        Mid-level       Full-time  Machine Learning Engineer      United States    In-person    United States            M  188140.00\n",
       "1       2023        Mid-level       Full-time             Data Scientist      United States    In-person    United States            M  155480.00\n",
       "2       2024           Senior       Full-time             Data Scientist     United Kingdom    In-person   United Kingdom            M   36800.00\n",
       "3       2024           Senior       Full-time             Data Scientist      United States       Remote    United States            M   88113.92\n",
       "4       2024           Senior       Full-time             Data Scientist     United Kingdom       Remote   United Kingdom            M   59800.00"
      ]
     },
     "execution_count": 7,
     "metadata": {},
     "output_type": "execute_result"
    }
   ],
   "source": [
    "df.head(5)"
   ]
  },
  {
   "cell_type": "markdown",
   "metadata": {},
   "source": [
    "## 2.2 Column inspection:\n",
    "What is the range of values we're working with - at a first glance there seem to be quite some columns that might be suitable for ordinal encoding (e.g. company_size or experience_level). But for it to work properly we need to have clearly distinguished values in these columns. (e.g. S,M,L and not S,M,L, 100-1000, 1000-2500 for company_size)"
   ]
  },
  {
   "cell_type": "code",
   "execution_count": 8,
   "metadata": {},
   "outputs": [
    {
     "data": {
      "text/plain": [
       "work_year                5\n",
       "experience_level         4\n",
       "employment_type          4\n",
       "job_title              145\n",
       "employee_residence      84\n",
       "work_setting             3\n",
       "company_location        73\n",
       "company_size             3\n",
       "target                2115\n",
       "dtype: int64"
      ]
     },
     "execution_count": 8,
     "metadata": {},
     "output_type": "execute_result"
    }
   ],
   "source": [
    "df.nunique()\n",
    "# we see that there is potential to use ordinal encoding for experience_level and company_size. We might consider employment_type and work_setting too if we can find a meaningful hierarchy there."
   ]
  },
  {
   "cell_type": "code",
   "execution_count": 9,
   "metadata": {},
   "outputs": [
    {
     "name": "stdout",
     "output_type": "stream",
     "text": [
      "work_year \t [2023 2024 2022 2020 2021]\n",
      "experience_level \t ['Mid-level' 'Senior' 'Entry-level' 'Executive']\n",
      "employment_type \t ['Full-time' 'Freelance' 'Contract' 'Part-time']\n",
      "work_setting \t ['In-person' 'Remote' 'Hybrid']\n",
      "company_size \t ['M' 'L' 'S']\n"
     ]
    }
   ],
   "source": [
    "for column in df.columns:\n",
    "    if df[column].nunique() < 6:\n",
    "        print(column, '\\t', df[column].unique())"
   ]
  },
  {
   "cell_type": "markdown",
   "metadata": {},
   "source": [
    "I'm comfortable calling **experience_level** and **company_size** ordinal values and using ordinal encoding on them. There's a clear hierarchy in the unique values printed for these columns. \n",
    "I'm less convinced that **employment_type** and **work_setting** shoudl be treated in a similar way. \n",
    "- consider *Contract*: is that a full-time or part-time contract? \n",
    "- consider *Part-time*: what's the percentage? \n",
    "- consider *Hybrid*: What's the ratio between remote and in-person?\n",
    "\n",
    "At this point we're curious as to why there's so many **company_location**, **job_title** and **employee_residence** values. \n",
    "- to be considered: are there **company_locations** that are hyperspecific (e.g. U.S. vs U.S. - Texas)?\n",
    "- to be considered: are there **job_titles** that are synonyms (e.g. Lead Dev vs Lead developer) or similar (e.g. Docker vs Kubernetes)?"
   ]
  },
  {
   "cell_type": "code",
   "execution_count": 10,
   "metadata": {},
   "outputs": [],
   "source": [
    "def get_alphabetically(df, column):\n",
    "    \"\"\"Takes a pandas DF (df) and a string (column) which is the name of a column in df\n",
    "    and returns an alphabetical list of values in that column. \"\"\"\n",
    "    l = df[column].unique()\n",
    "    l.sort()\n",
    "    return l \n",
    "\n",
    "def cleanup_strings(df, column, kvdict): \n",
    "    \"\"\"Takes a pandas DF (df), a string (column) which is the name of a column in df \n",
    "    and a python dictionary in key(str)-value(str) formwat where key is the value \n",
    "    to be replace and value is the stringvalue it should be replaced with\"\"\"\n",
    "    df = df.copy()\n",
    "    for key, value in kvdict.items():\n",
    "        df[column] = df[column].str.replace(key, value, regex=True)\n",
    "    return df"
   ]
  },
  {
   "cell_type": "code",
   "execution_count": null,
   "metadata": {},
   "outputs": [
    {
     "name": "stdout",
     "output_type": "stream",
     "text": [
      "['Algeria' 'American Samoa' 'Argentina' 'Armenia' 'Australia' 'Austria'\n",
      " 'Bahamas' 'Belgium' 'Bosnia and Herzegovina' 'Brazil' 'Canada'\n",
      " 'Central African Republic' 'China' 'Colombia' 'Croatia' 'Czechia'\n",
      " 'Denmark' 'Ecuador' 'Egypt' 'Estonia' 'Finland' 'France' 'Germany'\n",
      " 'Ghana' 'Gibraltar' 'Greece' 'Honduras' 'Hungary' 'India' 'Indonesia'\n",
      " 'Iran, Islamic Republic of' 'Iraq' 'Ireland' 'Israel' 'Italy' 'Japan'\n",
      " 'Kenya' 'Korea, Republic of' 'Latvia' 'Lebanon' 'Lithuania' 'Luxembourg'\n",
      " 'Malaysia' 'Malta' 'Mauritius' 'Mexico' 'Moldova, Republic of'\n",
      " 'Netherlands' 'New Zealand' 'Nigeria' 'Oman' 'Pakistan' 'Philippines'\n",
      " 'Poland' 'Portugal' 'Puerto Rico' 'Qatar' 'Romania' 'Russian Federation'\n",
      " 'Saudi Arabia' 'Singapore' 'Slovenia' 'South Africa' 'Spain' 'Sweden'\n",
      " 'Switzerland' 'Thailand' 'Türkiye' 'Ukraine' 'United Arab Emirates'\n",
      " 'United Kingdom' 'United States' 'Viet Nam']\n"
     ]
    }
   ],
   "source": [
    "print(get_alphabetically(df, 'company_location'))\n",
    "#no, there's no hyperspecificity in countries - but if we use one-hot encoding, we should make it easy for ourselves change the name of some countries\n",
    "#   - remove ü\n",
    "#   - all to lowercase\n",
    "#   - remove spaces\n",
    "#   - get rid of comma's "
   ]
  },
  {
   "cell_type": "code",
   "execution_count": 12,
   "metadata": {},
   "outputs": [
    {
     "name": "stdout",
     "output_type": "stream",
     "text": [
      "['AI Architect' 'AI Developer' 'AI Engineer' 'AI Product Manager'\n",
      " 'AI Programmer' 'AI Research Engineer' 'AI Research Scientist'\n",
      " 'AI Scientist' 'AI Software Engineer' 'Admin & Data Analyst'\n",
      " 'Analytics Engineer' 'Analytics Engineering Manager'\n",
      " 'Applied Data Scientist' 'Applied Machine Learning Engineer'\n",
      " 'Applied Machine Learning Scientist' 'Applied Scientist'\n",
      " 'Autonomous Vehicle Technician' 'Azure Data Engineer' 'BI Analyst'\n",
      " 'BI Data Analyst' 'BI Developer' 'Big Data Architect'\n",
      " 'Big Data Developer' 'Big Data Engineer' 'Business Data Analyst'\n",
      " 'Business Intelligence' 'Business Intelligence Analyst'\n",
      " 'Business Intelligence Data Analyst' 'Business Intelligence Developer'\n",
      " 'Business Intelligence Engineer' 'Business Intelligence Lead'\n",
      " 'Business Intelligence Manager' 'Business Intelligence Specialist'\n",
      " 'Cloud Data Architect' 'Cloud Data Engineer' 'Cloud Database Engineer'\n",
      " 'Compliance Data Analyst' 'Computational Biologist'\n",
      " 'Computer Vision Engineer' 'Computer Vision Software Engineer'\n",
      " 'Consultant Data Engineer' 'Data Analyst' 'Data Analyst Lead'\n",
      " 'Data Analytics Consultant' 'Data Analytics Engineer'\n",
      " 'Data Analytics Lead' 'Data Analytics Manager'\n",
      " 'Data Analytics Specialist' 'Data Architect' 'Data DevOps Engineer'\n",
      " 'Data Developer' 'Data Engineer' 'Data Infrastructure Engineer'\n",
      " 'Data Integration Developer' 'Data Integration Engineer'\n",
      " 'Data Integration Specialist' 'Data Lead' 'Data Management Analyst'\n",
      " 'Data Management Consultant' 'Data Management Specialist' 'Data Manager'\n",
      " 'Data Modeler' 'Data Modeller' 'Data Operations Analyst'\n",
      " 'Data Operations Associate' 'Data Operations Engineer'\n",
      " 'Data Operations Manager' 'Data Operations Specialist'\n",
      " 'Data Pipeline Engineer' 'Data Product Manager' 'Data Product Owner'\n",
      " 'Data Quality Analyst' 'Data Quality Engineer' 'Data Quality Manager'\n",
      " 'Data Reporting Analyst' 'Data Science' 'Data Science Analyst'\n",
      " 'Data Science Consultant' 'Data Science Director' 'Data Science Engineer'\n",
      " 'Data Science Lead' 'Data Science Manager' 'Data Science Practitioner'\n",
      " 'Data Science Tech Lead' 'Data Scientist' 'Data Scientist Lead'\n",
      " 'Data Specialist' 'Data Strategist' 'Data Strategy Manager'\n",
      " 'Data Visualization Analyst' 'Data Visualization Engineer'\n",
      " 'Data Visualization Specialist' 'Decision Scientist'\n",
      " 'Deep Learning Engineer' 'Director of Data Science' 'ETL Developer'\n",
      " 'ETL Engineer' 'Finance Data Analyst' 'Financial Data Analyst'\n",
      " 'Head of Data' 'Head of Data Science' 'Head of Machine Learning'\n",
      " 'Insight Analyst' 'Lead Data Analyst' 'Lead Data Engineer'\n",
      " 'Lead Data Scientist' 'Lead Machine Learning Engineer' 'ML Engineer'\n",
      " 'ML Ops Engineer' 'MLOps Engineer' 'Machine Learning Developer'\n",
      " 'Machine Learning Engineer' 'Machine Learning Infrastructure Engineer'\n",
      " 'Machine Learning Manager' 'Machine Learning Modeler'\n",
      " 'Machine Learning Operations Engineer'\n",
      " 'Machine Learning Research Engineer' 'Machine Learning Researcher'\n",
      " 'Machine Learning Scientist' 'Machine Learning Software Engineer'\n",
      " 'Machine Learning Specialist' 'Manager Data Management'\n",
      " 'Managing Director Data Science' 'Marketing Data Analyst'\n",
      " 'Marketing Data Engineer' 'Marketing Data Scientist' 'NLP Engineer'\n",
      " 'Power BI Developer' 'Principal Data Analyst' 'Principal Data Engineer'\n",
      " 'Principal Data Scientist' 'Principal Machine Learning Engineer'\n",
      " 'Product Data Analyst' 'Prompt Engineer' 'Quantitative Research Analyst'\n",
      " 'Research Analyst' 'Research Engineer' 'Research Scientist'\n",
      " 'Robotics Engineer' 'Robotics Software Engineer' 'Sales Data Analyst'\n",
      " 'Software Data Engineer' 'Staff Data Analyst' 'Staff Data Scientist'\n",
      " 'Staff Machine Learning Engineer'] 145\n"
     ]
    }
   ],
   "source": [
    "jobs = get_alphabetically(df, 'job_title')\n",
    "print(jobs, len(jobs))\n",
    "#Hooray we've opened medusa's box and we found a pile of shit: \n",
    "#    'ML Ops Engineer' 'MLOps Engineer' ==> SAME THING\n",
    "#   there's a bunch of titles that I don't even know what the bloody hell they do - and I'd consider it a miracle of the peeople involved know."
   ]
  },
  {
   "cell_type": "code",
   "execution_count": 13,
   "metadata": {},
   "outputs": [
    {
     "name": "stdout",
     "output_type": "stream",
     "text": [
      "['Algeria' 'American Samoa' 'Argentina' 'Armenia' 'Australia' 'Austria'\n",
      " 'Belgium' 'Bolivia, Plurinational State of' 'Bosnia and Herzegovina'\n",
      " 'Brazil' 'Bulgaria' 'Canada' 'Central African Republic' 'Chile' 'China'\n",
      " 'Colombia' 'Costa Rica' 'Croatia' 'Cyprus' 'Czechia' 'Denmark'\n",
      " 'Dominican Republic' 'Ecuador' 'Egypt' 'Estonia' 'Finland' 'France'\n",
      " 'Georgia' 'Germany' 'Ghana' 'Greece' 'Honduras' 'Hong Kong' 'India'\n",
      " 'Indonesia' 'Iran, Islamic Republic of' 'Iraq' 'Ireland' 'Italy' 'Japan'\n",
      " 'Jersey' 'Kenya' 'Korea, Republic of' 'Kuwait' 'Latvia' 'Lebanon'\n",
      " 'Lithuania' 'Luxembourg' 'Malaysia' 'Malta' 'Mauritius' 'Mexico'\n",
      " 'Moldova, Republic of' 'Netherlands' 'New Zealand' 'Nigeria' 'Oman'\n",
      " 'Pakistan' 'Peru' 'Philippines' 'Poland' 'Portugal' 'Puerto Rico' 'Qatar'\n",
      " 'Romania' 'Russian Federation' 'Saudi Arabia' 'Serbia' 'Singapore'\n",
      " 'Slovenia' 'South Africa' 'Spain' 'Sweden' 'Switzerland' 'Thailand'\n",
      " 'Tunisia' 'Türkiye' 'Uganda' 'Ukraine' 'United Arab Emirates'\n",
      " 'United Kingdom' 'United States' 'Uzbekistan' 'Viet Nam']\n"
     ]
    }
   ],
   "source": [
    "print(get_alphabetically(df, 'employee_residence'))"
   ]
  },
  {
   "cell_type": "markdown",
   "metadata": {},
   "source": []
  },
  {
   "cell_type": "markdown",
   "metadata": {},
   "source": [
    "# 3 data preprocessing: "
   ]
  },
  {
   "cell_type": "code",
   "execution_count": 14,
   "metadata": {},
   "outputs": [],
   "source": [
    "#We saw there are more values for employee_residence then there are for company_location. \n",
    "# A question we might try to explore: are foreign employees payed less?\n",
    "df_processed = df.copy()\n",
    "df_processed['employee_of_country']  = df_processed['employee_residence'] == df_processed['company_location']"
   ]
  },
  {
   "cell_type": "code",
   "execution_count": null,
   "metadata": {},
   "outputs": [],
   "source": [
    "#For jobs we saw that there's some redundancy: same jobs - different spelling. \n",
    "# let's address this quickly: (extend as needed)\n",
    "cleanup_jobs = {\n",
    "    'Business Intelligence': 'BI',\n",
    "    'Machine Learning': 'ML',\n",
    "    'Financial': 'Finance',\n",
    "    'Modeller': 'Modeler'\n",
    "    }\n",
    "df_processed = cleanup_strings(df_processed, 'job_title', cleanup_jobs)"
   ]
  },
  {
   "cell_type": "code",
   "execution_count": null,
   "metadata": {},
   "outputs": [],
   "source": [
    "#Same for country data in employee_residence and company_location\n",
    "cleanup_countriess = {\n",
    "    'ü': 'u',\n",
    "    ',': '',\n",
    "    ' ': '_'\n",
    "    }\n",
    "df_processed = cleanup_strings(df_processed, 'employee_residence', cleanup_countriess)\n",
    "df_processed = cleanup_strings(df_processed, 'company_location', cleanup_countriess)"
   ]
  },
  {
   "cell_type": "markdown",
   "metadata": {},
   "source": [
    "# 4: visualisations"
   ]
  },
  {
   "cell_type": "markdown",
   "metadata": {},
   "source": [
    "## 4.1. do foreign employees earn less?"
   ]
  },
  {
   "cell_type": "code",
   "execution_count": 29,
   "metadata": {},
   "outputs": [
    {
     "data": {
      "image/png": "[encoded data removed]",
      "text/plain": [
       "<Figure size 640x480 with 1 Axes>"
      ]
     },
     "metadata": {},
     "output_type": "display_data"
    }
   ],
   "source": [
    "countries_with_false = df_processed[df_processed['employee_of_country'] == False]['company_location'].unique()\n",
    "df_filtered = df_processed[df_processed['company_location'].isin(countries_with_false)]\n",
    "\n",
    "for i, country in enumerate(df_filtered['company_location'].unique()):\n",
    "    country_data = df_filtered[df_filtered['company_location'] == country]\n",
    "    colors = country_data['employee_of_country'].apply(lambda x: 'green' if x else 'red')\n",
    "    plt.scatter([i] * len(country_data), country_data['target'], color=colors, alpha=0.6)\n",
    "\n",
    "# Customize the plot\n",
    "plt.title('Salary range per country with foreign employees highlighted')\n",
    "plt.xlabel('Country')\n",
    "plt.ylabel('Salary')\n",
    "plt.xticks(rotation=45)\n",
    "plt.grid(True)"
   ]
  },
  {
   "cell_type": "code",
   "execution_count": null,
   "metadata": {},
   "outputs": [],
   "source": []
  }
 ],
 "metadata": {
  "kernelspec": {
   "display_name": "evaluatie 2 - regressie",
   "language": "python",
   "name": "python3"
  },
  "language_info": {
   "codemirror_mode": {
    "name": "ipython",
    "version": 3
   },
   "file_extension": ".py",
   "mimetype": "text/x-python",
   "name": "python",
   "nbconvert_exporter": "python",
   "pygments_lexer": "ipython3",
   "version": "3.11.3"
  }
 },
 "nbformat": 4,
 "nbformat_minor": 2
}
