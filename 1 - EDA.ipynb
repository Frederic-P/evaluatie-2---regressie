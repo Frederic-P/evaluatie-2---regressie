{
 "cells": [
  {
   "cell_type": "code",
   "execution_count": 1,
   "id": "fc732b52-e424-42db-9df9-130a355cfbca",
   "metadata": {},
   "outputs": [],
   "source": [
    "import sys\n",
    "\n",
    "sys.path.append('utilities')\n",
    "\n",
    "import helpers as h"
   ]
  },
  {
   "cell_type": "code",
   "execution_count": 2,
   "id": "a00f3a9c-80c1-482f-8ead-d20776c69de8",
   "metadata": {},
   "outputs": [
    {
     "ename": "NameError",
     "evalue": "name 'sns' is not defined",
     "output_type": "error",
     "traceback": [
      "\u001b[1;31m---------------------------------------------------------------------------\u001b[0m",
      "\u001b[1;31mNameError\u001b[0m                                 Traceback (most recent call last)",
      "Cell \u001b[1;32mIn[2], line 1\u001b[0m\n\u001b[1;32m----> 1\u001b[0m \u001b[43msns\u001b[49m\u001b[38;5;241m.\u001b[39mpairplot(df,diag_kind\u001b[38;5;241m=\u001b[39m\u001b[38;5;124m'\u001b[39m\u001b[38;5;124mhist\u001b[39m\u001b[38;5;124m'\u001b[39m)\n",
      "\u001b[1;31mNameError\u001b[0m: name 'sns' is not defined"
     ]
    }
   ],
   "source": [
    "sns.pairplot(df,diag_kind='hist')"
   ]
  },
  {
   "cell_type": "code",
   "execution_count": null,
   "id": "f9db5784-5711-4252-ba5c-cb7cb473f071",
   "metadata": {},
   "outputs": [],
   "source": [
    "bepaal ook de residuals"
   ]
  }
 ],
 "metadata": {
  "kernelspec": {
   "display_name": "evaluatie 2 - regressie",
   "language": "python",
   "name": "python3"
  },
  "language_info": {
   "codemirror_mode": {
    "name": "ipython",
    "version": 3
   },
   "file_extension": ".py",
   "mimetype": "text/x-python",
   "name": "python",
   "nbconvert_exporter": "python",
   "pygments_lexer": "ipython3",
   "version": "3.11.3"
  }
 },
 "nbformat": 4,
 "nbformat_minor": 5
}
